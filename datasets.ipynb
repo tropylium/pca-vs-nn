{
 "cells": [
  {
   "cell_type": "code",
   "execution_count": 2,
   "metadata": {},
   "outputs": [],
   "source": [
    "%load_ext autoreload\n",
    "%autoreload 2"
   ]
  },
  {
   "cell_type": "code",
   "execution_count": 3,
   "metadata": {},
   "outputs": [],
   "source": [
    "import json\n",
    "from pathlib import Path\n",
    "import itertools\n",
    "from typing import *\n",
    "\n",
    "import pandas as pd\n",
    "import plotly.express as px\n",
    "import plotly.graph_objects as go\n",
    "import matplotlib.pyplot as plt\n",
    "import torch\n",
    "\n",
    "from datasets import load_dataset_raw"
   ]
  },
  {
   "cell_type": "markdown",
   "metadata": {},
   "source": [
    "Find the mean of all datasets. We need to center each dataset in order to compare properly with PCA."
   ]
  },
  {
   "cell_type": "code",
   "execution_count": null,
   "metadata": {},
   "outputs": [
    {
     "name": "stdout",
     "output_type": "stream",
     "text": [
      "MNIST torch.Size([1, 28, 28])\n",
      "Files already downloaded and verified\n",
      "Files already downloaded and verified\n",
      "CIFAR10 torch.Size([3, 32, 32])\n",
      "Using downloaded and verified file: datasets/train_32x32.mat\n",
      "Using downloaded and verified file: datasets/test_32x32.mat\n",
      "SVHN torch.Size([3, 32, 32])\n"
     ]
    }
   ],
   "source": [
    "device = torch.device(\"cuda:0\")\n",
    "\n",
    "\n",
    "def find_mean(dataset: torch.Tensor) -> torch.Tensor:\n",
    "    return dataset.mean(dim=0)\n",
    "\n",
    "\n",
    "data_dir = Path(\"datasets-metadata\")\n",
    "data_dir.mkdir(exist_ok=True)\n",
    "\n",
    "for name in [\"MNIST\", \"CIFAR10\", \"SVHN\"]:\n",
    "    train_dataset, _ = load_dataset_raw(name, device)\n",
    "    mean = find_mean(train_dataset)\n",
    "    print(name, mean.shape)\n",
    "    centered_train_dataset = train_dataset - mean\n",
    "\n",
    "    with data_dir / f\"{name}-mean.pt\" as f:\n",
    "        torch.save(mean, f)"
   ]
  }
 ],
 "metadata": {
  "kernelspec": {
   "display_name": "ddim_inversion",
   "language": "python",
   "name": "python3"
  },
  "language_info": {
   "codemirror_mode": {
    "name": "ipython",
    "version": 3
   },
   "file_extension": ".py",
   "mimetype": "text/x-python",
   "name": "python",
   "nbconvert_exporter": "python",
   "pygments_lexer": "ipython3",
   "version": "3.9.19"
  }
 },
 "nbformat": 4,
 "nbformat_minor": 2
}
