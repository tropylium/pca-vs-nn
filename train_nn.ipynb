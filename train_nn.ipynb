{
  "cells": [
    {
      "cell_type": "markdown",
      "metadata": {
        "id": "dmetV4Q3zK74"
      },
      "source": [
        "# Purpose\n",
        "Train autoencoder on MNIST dataset allowing variation of hidden layers in encoder/ decoder."
      ]
    },
    {
      "cell_type": "code",
      "execution_count": 1,
      "metadata": {},
      "outputs": [],
      "source": [
        "%load_ext autoreload\n",
        "%autoreload 2"
      ]
    },
    {
      "cell_type": "code",
      "execution_count": 35,
      "metadata": {
        "id": "58tkjx6mzK75"
      },
      "outputs": [],
      "source": [
        "import torch\n",
        "import torch.nn as nn\n",
        "import torch.optim as optim\n",
        "from torchvision import datasets, transforms\n",
        "from torch.utils.data import DataLoader\n",
        "\n",
        "import matplotlib.pyplot as plt\n",
        "import seaborn as sns\n",
        "\n",
        "from pathlib import Path\n",
        "import time\n",
        "import json\n",
        "\n",
        "from typing import *\n",
        "from tqdm import tqdm"
      ]
    },
    {
      "cell_type": "code",
      "execution_count": 3,
      "metadata": {
        "colab": {
          "base_uri": "https://localhost:8080/"
        },
        "id": "J3GqoCW0zK76",
        "outputId": "4cf2ad06-3002-4bb5-c485-c1b00dd9810f"
      },
      "outputs": [
        {
          "name": "stdout",
          "output_type": "stream",
          "text": [
            "using device cuda:1\n"
          ]
        }
      ],
      "source": [
        "# Setup\n",
        "device = torch.device(\"cuda:1\" if torch.cuda.is_available() else \"cpu\")\n",
        "print(\"using device\", device)\n",
        "rng = torch.Generator().manual_seed(18065)"
      ]
    },
    {
      "cell_type": "code",
      "execution_count": 34,
      "metadata": {
        "id": "v55_sNz5zK76"
      },
      "outputs": [],
      "source": [
        "class Autoencoder(nn.Module):\n",
        "    def __init__(\n",
        "        self,\n",
        "        input_dim: int,\n",
        "        hidden_dim: int,\n",
        "        latent_dim: int,\n",
        "        hidden_layers: int,\n",
        "        residual_connection: bool = False,\n",
        "    ):\n",
        "        \"\"\"\n",
        "        Args:\n",
        "            input_dim: int, input dimension\n",
        "            hidden_dim: int, dimension of hidden layers\n",
        "            latent_dim: int, dimension of latent space\n",
        "            hidden_layers: int, number of hidden layers\n",
        "            residual_connection: bool, whether to use residual connection in encoder/decoder\n",
        "        \"\"\"\n",
        "        super(Autoencoder, self).__init__()\n",
        "        assert hidden_layers > 0, \"hidden_layers must be greater than 0\"\n",
        "\n",
        "        # observe this accounts for hidden_layers=1 properly\n",
        "        layer_dims = [[hidden_dim, hidden_dim] for _ in range(hidden_layers)]\n",
        "        layer_dims[0][0] = input_dim\n",
        "        layer_dims[-1][1] = latent_dim\n",
        "\n",
        "        encoder_layers = []\n",
        "        for input_d, output_d in layer_dims:\n",
        "            encoder_layers.append(nn.Linear(input_d, output_d))\n",
        "            if output_d != latent_dim:\n",
        "                encoder_layers.append(nn.ReLU())\n",
        "\n",
        "        self.encoder_nn = nn.Sequential(*encoder_layers)\n",
        "\n",
        "        decoder_layers = []\n",
        "        for output_d, input_d in reversed(layer_dims):\n",
        "            if input_d != latent_dim:\n",
        "                decoder_layers.append(nn.ReLU())\n",
        "            decoder_layers.append(nn.Linear(input_d, output_d))\n",
        "\n",
        "        self.decoder_nn = nn.Sequential(*decoder_layers)\n",
        "\n",
        "        if residual_connection:\n",
        "            self.encoder_residual = nn.Linear(input_dim, latent_dim)\n",
        "            self.decoder_residual = nn.Linear(latent_dim, input_dim)\n",
        "        else:\n",
        "            self.encoder_residual = None\n",
        "            self.decoder_residual = None\n",
        "\n",
        "    def encode(self, x: torch.Tensor) -> torch.Tensor:\n",
        "        if self.encoder_residual is not None:\n",
        "            x = self.encoder_residual(x) + self.encoder_nn(x)\n",
        "        else:\n",
        "            x = self.encoder_nn(x)\n",
        "        return x\n",
        "\n",
        "    def decode(self, z: torch.Tensor) -> torch.Tensor:\n",
        "        if self.decoder_residual is not None:\n",
        "            z = self.decoder_residual(z) + self.decoder_nn(z)\n",
        "        else:\n",
        "            z = self.decoder_nn(z)\n",
        "        return z\n",
        "\n",
        "    def forward(self, x: torch.Tensor) -> torch.Tensor:\n",
        "        orig_shape = x.shape\n",
        "        x = x.view(x.size(0), -1)\n",
        "        x = self.encode(x)\n",
        "        x = self.decode(x)\n",
        "        x = x.view(orig_shape)\n",
        "        return x"
      ]
    },
    {
      "cell_type": "code",
      "execution_count": 43,
      "metadata": {},
      "outputs": [],
      "source": [
        "def load_dataset(name: str) -> tuple[torch.Tensor, torch.Tensor]:\n",
        "    if name == \"MNIST\":\n",
        "        # load data\n",
        "        transform = transforms.Compose(\n",
        "            [transforms.ToTensor(), transforms.Normalize((0.5,), (0.5,))]\n",
        "        )\n",
        "        # MNIST\n",
        "        train_dataset = datasets.MNIST(\n",
        "            root=\".\", train=True, transform=transform, download=True\n",
        "        )\n",
        "        test_dataset = datasets.MNIST(\n",
        "            root=\".\", train=False, transform=transform, download=True\n",
        "        )\n",
        "    elif name == \"SVHN\":\n",
        "        # load data\n",
        "        transform = transforms.Compose(\n",
        "            [\n",
        "                transforms.ToTensor(),\n",
        "                transforms.Normalize(\n",
        "                    mean=[0.485, 0.456, 0.406], std=[0.229, 0.224, 0.225]\n",
        "                ),\n",
        "            ]\n",
        "        )\n",
        "        # SVHN\n",
        "        train_dataset = datasets.SVHN(\n",
        "            root=\".\", split=\"train\", transform=transform, download=True\n",
        "        )\n",
        "        test_dataset = datasets.SVHN(\n",
        "            root=\".\", split=\"test\", transform=transform, download=True\n",
        "        )\n",
        "    elif name == \"CIFAR10\":\n",
        "        # load data\n",
        "        transform = transforms.Compose(\n",
        "            [\n",
        "                transforms.ToTensor(),\n",
        "                transforms.Normalize(\n",
        "                    mean=[0.485, 0.456, 0.406], std=[0.229, 0.224, 0.225]\n",
        "                ),\n",
        "            ]\n",
        "        )\n",
        "        # CIFAR10\n",
        "        train_dataset = datasets.CIFAR10(\n",
        "            root=\".\", train=True, transform=transform, download=True\n",
        "        )\n",
        "        test_dataset = datasets.CIFAR10(\n",
        "            root=\".\", train=False, transform=transform, download=True\n",
        "        )\n",
        "    train_loader = DataLoader(\n",
        "        train_dataset,\n",
        "        batch_size=1024,\n",
        "        shuffle=False,\n",
        "        generator=rng,\n",
        "        num_workers=128,\n",
        "    )\n",
        "    test_loader = DataLoader(\n",
        "        test_dataset, batch_size=1024, shuffle=False, generator=rng, num_workers=128\n",
        "    )\n",
        "\n",
        "    all_train_data = []\n",
        "    for data, _ in tqdm(train_loader):\n",
        "        all_train_data.append(data)\n",
        "    all_train_data = torch.concatenate(all_train_data).to(device)\n",
        "    print(all_train_data.shape)\n",
        "\n",
        "    all_valid_data = []\n",
        "    for data, _ in tqdm(test_loader):\n",
        "        all_valid_data.append(data)\n",
        "    all_valid_data = torch.concatenate(all_valid_data).to(device)\n",
        "    print(all_valid_data.shape)\n",
        "\n",
        "    return all_train_data, all_valid_data"
      ]
    },
    {
      "cell_type": "code",
      "execution_count": 46,
      "metadata": {
        "id": "-gy-rSrNzK76"
      },
      "outputs": [
        {
          "name": "stdout",
          "output_type": "stream",
          "text": [
            "Downloading https://www.cs.toronto.edu/~kriz/cifar-10-python.tar.gz to ./cifar-10-python.tar.gz\n"
          ]
        },
        {
          "name": "stderr",
          "output_type": "stream",
          "text": [
            "100%|██████████| 170498071/170498071 [00:01<00:00, 104352294.16it/s]\n"
          ]
        },
        {
          "name": "stdout",
          "output_type": "stream",
          "text": [
            "Extracting ./cifar-10-python.tar.gz to .\n",
            "Files already downloaded and verified\n"
          ]
        },
        {
          "name": "stderr",
          "output_type": "stream",
          "text": [
            "100%|██████████| 49/49 [00:03<00:00, 14.19it/s]\n"
          ]
        },
        {
          "name": "stdout",
          "output_type": "stream",
          "text": [
            "torch.Size([50000, 3, 32, 32])\n"
          ]
        },
        {
          "name": "stderr",
          "output_type": "stream",
          "text": [
            "100%|██████████| 10/10 [00:05<00:00,  1.95it/s]"
          ]
        },
        {
          "name": "stdout",
          "output_type": "stream",
          "text": [
            "torch.Size([10000, 3, 32, 32])\n"
          ]
        },
        {
          "name": "stderr",
          "output_type": "stream",
          "text": [
            "\n"
          ]
        }
      ],
      "source": [
        "all_train_data, all_valid_data = load_dataset(\"CIFAR10\")"
      ]
    },
    {
      "cell_type": "markdown",
      "metadata": {
        "id": "7fLHkjJfSzLQ"
      },
      "source": [
        "Training"
      ]
    },
    {
      "cell_type": "code",
      "execution_count": 47,
      "metadata": {},
      "outputs": [],
      "source": [
        "def train_and_get_results(\n",
        "    dataset: tuple[torch.Tensor, torch.Tensor],\n",
        "    model_kwargs: dict[str, Any],\n",
        "    device: torch.device,\n",
        "    checkpoint_func: Optional[Callable] = None,\n",
        "    batch_size: int = 100,\n",
        "    epochs: int = 100,\n",
        "):\n",
        "    model = Autoencoder(**model_kwargs).to(device)\n",
        "    all_train_data, all_valid_data = dataset\n",
        "    criterion = nn.MSELoss()\n",
        "    optimizer = optim.Adam(model.parameters(), lr=0.001)\n",
        "    scheduler = optim.lr_scheduler.StepLR(optimizer, step_size=10, gamma=0.1)\n",
        "\n",
        "    start_time = time.time()\n",
        "    epoch_data = {}\n",
        "    for epoch in range(epochs):\n",
        "        # Training loop\n",
        "        train_loss = 0\n",
        "        with torch.enable_grad():\n",
        "            # Simulate dataloader shuffling\n",
        "            permuted_data = torch.randperm(len(all_train_data), generator=rng)\n",
        "            iters = len(all_train_data) // batch_size\n",
        "            for i in range(iters):\n",
        "                data = all_train_data[\n",
        "                    permuted_data[i * batch_size : (i + 1) * batch_size]\n",
        "                ]\n",
        "                data = data.to(device)\n",
        "                optimizer.zero_grad()\n",
        "\n",
        "                output = model(data)\n",
        "\n",
        "                loss = criterion(output, data)\n",
        "                train_loss += loss.item()\n",
        "\n",
        "                loss.backward()\n",
        "                optimizer.step()\n",
        "        scheduler.step()\n",
        "        train_loss /= iters\n",
        "\n",
        "        # Validation loop\n",
        "        with torch.no_grad():\n",
        "            output = model(all_valid_data)\n",
        "            valid_loss = criterion(output, all_valid_data).item()\n",
        "\n",
        "        epoch_data[epoch] = {\n",
        "            \"train_loss\": train_loss,\n",
        "            \"valid_loss\": valid_loss,\n",
        "            \"time_taken\": time.time() - start_time,\n",
        "        }\n",
        "\n",
        "        if checkpoint_func is not None:\n",
        "            checkpoint_func(model, epoch)\n",
        "\n",
        "    return model, epoch_data"
      ]
    },
    {
      "cell_type": "code",
      "execution_count": 49,
      "metadata": {},
      "outputs": [],
      "source": [
        "model, epoch_data = train_and_get_results(\n",
        "    dataset=(all_train_data, all_valid_data),\n",
        "    model_kwargs=dict(\n",
        "        input_dim=all_train_data[0].numel(),\n",
        "        hidden_dim=64,\n",
        "        latent_dim=16,\n",
        "        hidden_layers=2,\n",
        "        residual_connection=False,\n",
        "    ),\n",
        "    device=device,\n",
        "    batch_size=100,\n",
        "    epochs=2,\n",
        ")"
      ]
    },
    {
      "cell_type": "code",
      "execution_count": null,
      "metadata": {
        "colab": {
          "base_uri": "https://localhost:8080/"
        },
        "id": "EPdZRaRhzK77",
        "outputId": "1969ffe9-7a4b-4126-c0a2-31fbfb293eaa"
      },
      "outputs": [
        {
          "name": "stdout",
          "output_type": "stream",
          "text": [
            "torch.Size([5, 3, 32, 32])\n"
          ]
        },
        {
          "data": {
            "image/png": "[encoded data removed]",
            "text/plain": [
              "<Figure size 1500x600 with 10 Axes>"
            ]
          },
          "metadata": {},
          "output_type": "display_data"
        }
      ],
      "source": [
        "# visualize reconstruction\n",
        "gray_scale = len(all_train_data.shape) == 3\n",
        "num_images = 5\n",
        "sample_idx = torch.randint(0, len(all_train_data), (num_images,)).tolist()\n",
        "sample_images = torch.stack([all_train_data[i] for i in sample_idx])\n",
        "sample_images = sample_images.to(device)\n",
        "print(sample_images.shape)\n",
        "\n",
        "with torch.no_grad():\n",
        "    reconstructed_images = model(sample_images)\n",
        "\n",
        "\n",
        "# necessary for visualization; matplotlib expects values in [0, 1]\n",
        "def normalize_image(image: torch.Tensor) -> torch.Tensor:\n",
        "    return (image - image.min()) / (image.max() - image.min())\n",
        "\n",
        "\n",
        "def get_image(image: torch.Tensor):\n",
        "    if gray_scale:\n",
        "        return normalize_image(image.cpu().numpy())\n",
        "    else:\n",
        "        return normalize_image(image.cpu().permute(1, 2, 0).numpy())\n",
        "\n",
        "\n",
        "fig, axes = plt.subplots(2, num_images, figsize=(num_images * 3, 6), squeeze=False)\n",
        "for i in range(num_images):\n",
        "    axes[0, i].axis(\"off\")\n",
        "    axes[1, i].axis(\"off\")\n",
        "    axes[0, i].imshow(get_image(sample_images[i]), cmap=\"gray\")\n",
        "    axes[1, i].imshow(get_image(reconstructed_images[i]), cmap=\"gray\")\n",
        "\n",
        "plt.show()"
      ]
    }
  ],
  "metadata": {
    "accelerator": "GPU",
    "colab": {
      "gpuType": "T4",
      "provenance": []
    },
    "kernelspec": {
      "display_name": "ddim_inversion",
      "language": "python",
      "name": "python3"
    },
    "language_info": {
      "codemirror_mode": {
        "name": "ipython",
        "version": 3
      },
      "file_extension": ".py",
      "mimetype": "text/x-python",
      "name": "python",
      "nbconvert_exporter": "python",
      "pygments_lexer": "ipython3",
      "version": "3.9.19"
    }
  },
  "nbformat": 4,
  "nbformat_minor": 0
}
